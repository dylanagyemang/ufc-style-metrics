{
 "cells": [
  {
   "cell_type": "markdown",
   "id": "ff8f301f",
   "metadata": {},
   "source": [
    "\n",
    "# UFC Style Analysis — Notebook (Auto-Detect Excel + UAM vs Weighted)\n",
    "\n",
    "This notebook analyzes **UFC fighting styles**: representation, win ratios, champion conversion rates, and cross-source comparisons (your data vs ESPN).  \n",
    "It **auto-detects your Excel file** and includes **Unweighted Arithmetic Mean (UAM)** vs **Weighted Average** for win ratios.\n"
   ]
  },
  {
   "cell_type": "code",
   "execution_count": 116,
   "id": "90676ff2",
   "metadata": {},
   "outputs": [],
   "source": [
    "\n",
    "import os, glob\n",
    "import pandas as pd\n",
    "import numpy as np\n",
    "import matplotlib.pyplot as plt\n",
    "\n",
    "pd.set_option('display.max_columns', 100)\n",
    "pd.set_option('display.width', 120)\n"
   ]
  },
  {
   "cell_type": "code",
   "execution_count": 117,
   "id": "b44cc72e",
   "metadata": {},
   "outputs": [
    {
     "name": "stdout",
     "output_type": "stream",
     "text": [
      "Using Excel file: ../data/UFC Fighters (3_2022).xlsx\n"
     ]
    }
   ],
   "source": [
    "\n",
    "# Auto-detect the UFC Excel file in common locations or anywhere in the repo\n",
    "candidates = [\n",
    "    \"../data/UFC Fighters (3_2022).xlsx\"\n",
    "]\n",
    "\n",
    "EXCEL_PATH = None\n",
    "for c in candidates:\n",
    "    if os.path.exists(c):\n",
    "        EXCEL_PATH = c\n",
    "        break\n",
    "\n",
    "if EXCEL_PATH is None:\n",
    "    matches = glob.glob(\"**data/UFC Fighters (3_2022)*.xlsx\", recursive=True)\n",
    "    if matches:\n",
    "        EXCEL_PATH = matches[0]\n",
    "\n",
    "if EXCEL_PATH is None:\n",
    "    raise FileNotFoundError(\"Could not find the UFC Fighters Excel file. Please add it to the repo or update the search patterns.\")\n",
    "\n",
    "print(\"Using Excel file:\", EXCEL_PATH)\n"
   ]
  },
  {
   "cell_type": "code",
   "execution_count": 118,
   "id": "3940ac69",
   "metadata": {},
   "outputs": [],
   "source": [
    "\n",
    "def a1_to_ix(a1: str):\n",
    "    import re\n",
    "    m = re.match(r\"^\\s*([A-Za-z]+)(\\d+)\\s*$\", a1)\n",
    "    if not m: raise ValueError(f'Bad A1 address: {a1}')\n",
    "    col_s, row_s = m.groups()\n",
    "    col = 0\n",
    "    for ch in col_s.upper():\n",
    "        col = col*26 + (ord(ch)-64)\n",
    "    return int(row_s)-1, col-1\n",
    "\n",
    "def parse_range(df: pd.DataFrame, rng: str):\n",
    "    a, b = [x.strip() for x in rng.split(':')]\n",
    "    r1,c1 = a1_to_ix(a)\n",
    "    r2,c2 = a1_to_ix(b)\n",
    "    return df.iloc[min(r1,r2):max(r1,r2)+1, min(c1,c2):max(c1,c2)+1]\n",
    "\n",
    "def to_num(x):\n",
    "    return pd.to_numeric(pd.Series(x).astype(str).str.replace('%','', regex=False), errors='coerce')\n",
    "\n",
    "def exclude_summary(labels):\n",
    "    lab = pd.Series(labels).astype(str).str.lower()\n",
    "    return ~lab.str.contains(r\"\\b(?:avg|average|overall|total|mean)\\b\", regex=True)\n"
   ]
  },
  {
   "cell_type": "code",
   "execution_count": 119,
   "id": "75beecbf",
   "metadata": {},
   "outputs": [
    {
     "data": {
      "text/plain": [
       "['Fighters from 11-1993 to 3-2022', 'Cross Source Analysis']"
      ]
     },
     "execution_count": 119,
     "metadata": {},
     "output_type": "execute_result"
    }
   ],
   "source": [
    "\n",
    "xls = pd.ExcelFile(EXCEL_PATH)\n",
    "xls.sheet_names\n"
   ]
  },
  {
   "cell_type": "code",
   "execution_count": 120,
   "id": "9a144402",
   "metadata": {},
   "outputs": [],
   "source": [
    "\n",
    "base = pd.read_excel(EXCEL_PATH, sheet_name=0, header=None)\n"
   ]
  },
  {
   "cell_type": "markdown",
   "id": "0f8c94aa",
   "metadata": {},
   "source": [
    "## 1) Style Representation"
   ]
  },
  {
   "cell_type": "code",
   "execution_count": 121,
   "id": "3b907a99",
   "metadata": {},
   "outputs": [
    {
     "data": {
      "text/html": [
       "<div>\n",
       "<style scoped>\n",
       "    .dataframe tbody tr th:only-of-type {\n",
       "        vertical-align: middle;\n",
       "    }\n",
       "\n",
       "    .dataframe tbody tr th {\n",
       "        vertical-align: top;\n",
       "    }\n",
       "\n",
       "    .dataframe thead th {\n",
       "        text-align: right;\n",
       "    }\n",
       "</style>\n",
       "<table border=\"1\" class=\"dataframe\">\n",
       "  <thead>\n",
       "    <tr style=\"text-align: right;\">\n",
       "      <th></th>\n",
       "      <th>Style</th>\n",
       "      <th>Representation_raw</th>\n",
       "    </tr>\n",
       "  </thead>\n",
       "  <tbody>\n",
       "    <tr>\n",
       "      <th>0</th>\n",
       "      <td>Wrestling</td>\n",
       "      <td>420</td>\n",
       "    </tr>\n",
       "    <tr>\n",
       "      <th>1</th>\n",
       "      <td>BJJ</td>\n",
       "      <td>183</td>\n",
       "    </tr>\n",
       "    <tr>\n",
       "      <th>2</th>\n",
       "      <td>Judo</td>\n",
       "      <td>65</td>\n",
       "    </tr>\n",
       "    <tr>\n",
       "      <th>3</th>\n",
       "      <td>Freestyle</td>\n",
       "      <td>477</td>\n",
       "    </tr>\n",
       "    <tr>\n",
       "      <th>4</th>\n",
       "      <td>Muay Thai</td>\n",
       "      <td>55</td>\n",
       "    </tr>\n",
       "    <tr>\n",
       "      <th>5</th>\n",
       "      <td>Karate</td>\n",
       "      <td>67</td>\n",
       "    </tr>\n",
       "    <tr>\n",
       "      <th>6</th>\n",
       "      <td>Kickboxing</td>\n",
       "      <td>73</td>\n",
       "    </tr>\n",
       "    <tr>\n",
       "      <th>7</th>\n",
       "      <td>Boxing</td>\n",
       "      <td>48</td>\n",
       "    </tr>\n",
       "    <tr>\n",
       "      <th>8</th>\n",
       "      <td>TKD</td>\n",
       "      <td>38</td>\n",
       "    </tr>\n",
       "    <tr>\n",
       "      <th>9</th>\n",
       "      <td>Kung Fu</td>\n",
       "      <td>15</td>\n",
       "    </tr>\n",
       "  </tbody>\n",
       "</table>\n",
       "</div>"
      ],
      "text/plain": [
       "        Style  Representation_raw\n",
       "0   Wrestling                 420\n",
       "1         BJJ                 183\n",
       "2        Judo                  65\n",
       "3   Freestyle                 477\n",
       "4   Muay Thai                  55\n",
       "5      Karate                  67\n",
       "6  Kickboxing                  73\n",
       "7      Boxing                  48\n",
       "8         TKD                  38\n",
       "9     Kung Fu                  15"
      ]
     },
     "execution_count": 121,
     "metadata": {},
     "output_type": "execute_result"
    }
   ],
   "source": [
    "\n",
    "names_rep = parse_range(base, 'C1:L1').values.flatten().tolist()\n",
    "vals_rep  = parse_range(base, 'C2:L2').values.flatten().tolist()\n",
    "rep_df = pd.DataFrame({'Style': names_rep, 'Representation_raw': to_num(vals_rep)}).dropna(subset=['Style'])\n",
    "rep_df\n"
   ]
  },
  {
   "cell_type": "code",
   "execution_count": 122,
   "id": "8a7b4422",
   "metadata": {},
   "outputs": [
    {
     "data": {
      "text/plain": [
       "('(normalized to % of total)',\n",
       "         Style  Representation_pct\n",
       " 3   Freestyle           33.102012\n",
       " 0   Wrestling           29.146426\n",
       " 1         BJJ           12.699514\n",
       " 6  Kickboxing            5.065926\n",
       " 5      Karate            4.649549)"
      ]
     },
     "execution_count": 122,
     "metadata": {},
     "output_type": "execute_result"
    }
   ],
   "source": [
    "\n",
    "rep_raw = rep_df['Representation_raw']\n",
    "if rep_raw.max() > 1.0 and rep_raw.max() <= 100.0:\n",
    "    rep_df['Representation_pct'] = rep_raw\n",
    "    rep_note = '(interpreted as %)'\n",
    "elif rep_raw.max() <= 1.0:\n",
    "    rep_df['Representation_pct'] = rep_raw * 100.0\n",
    "    rep_note = '(converted from proportion)'\n",
    "else:\n",
    "    total = rep_raw.sum()\n",
    "    rep_df['Representation_pct'] = (rep_raw / total) * 100.0 if total else rep_raw\n",
    "    rep_note = '(normalized to % of total)'\n",
    "rep_note, rep_df[['Style','Representation_pct']].sort_values('Representation_pct', ascending=False).head()\n"
   ]
  },
  {
   "cell_type": "code",
   "execution_count": 123,
   "id": "61832b51",
   "metadata": {},
   "outputs": [
    {
     "data": {
      "text/plain": [
       "<Figure size 640x480 with 0 Axes>"
      ]
     },
     "metadata": {},
     "output_type": "display_data"
    },
    {
     "data": {
      "image/png": "[encoded data removed]",
      "text/plain": [
       "<Figure size 640x480 with 1 Axes>"
      ]
     },
     "metadata": {},
     "output_type": "display_data"
    }
   ],
   "source": [
    "\n",
    "plt.figure()\n",
    "rep_df.sort_values('Representation_pct', ascending=False).plot(\n",
    "    x='Style', y='Representation_pct', kind='bar', legend=False\n",
    ")\n",
    "plt.ylabel('Representation (%)')\n",
    "plt.title(f'Overall Style Representation {rep_note}')\n",
    "plt.tight_layout()\n",
    "plt.show()\n"
   ]
  },
  {
   "cell_type": "markdown",
   "id": "03538688",
   "metadata": {},
   "source": [
    "## 2) Win Ratios by Style — **UAM vs Weighted**"
   ]
  },
  {
   "cell_type": "code",
   "execution_count": 124,
   "id": "73e255b2",
   "metadata": {},
   "outputs": [
    {
     "data": {
      "text/html": [
       "<div>\n",
       "<style scoped>\n",
       "    .dataframe tbody tr th:only-of-type {\n",
       "        vertical-align: middle;\n",
       "    }\n",
       "\n",
       "    .dataframe tbody tr th {\n",
       "        vertical-align: top;\n",
       "    }\n",
       "\n",
       "    .dataframe thead th {\n",
       "        text-align: right;\n",
       "    }\n",
       "</style>\n",
       "<table border=\"1\" class=\"dataframe\">\n",
       "  <thead>\n",
       "    <tr style=\"text-align: right;\">\n",
       "      <th></th>\n",
       "      <th>Metric</th>\n",
       "      <th>Win Ratio</th>\n",
       "    </tr>\n",
       "  </thead>\n",
       "  <tbody>\n",
       "    <tr>\n",
       "      <th>0</th>\n",
       "      <td>UAM (Unweighted Arithmetic Mean)</td>\n",
       "      <td>1.285946</td>\n",
       "    </tr>\n",
       "    <tr>\n",
       "      <th>1</th>\n",
       "      <td>Weighted Average (by Fighters)</td>\n",
       "      <td>1.242443</td>\n",
       "    </tr>\n",
       "  </tbody>\n",
       "</table>\n",
       "</div>"
      ],
      "text/plain": [
       "                             Metric  Win Ratio\n",
       "0  UAM (Unweighted Arithmetic Mean)   1.285946\n",
       "1    Weighted Average (by Fighters)   1.242443"
      ]
     },
     "execution_count": 124,
     "metadata": {},
     "output_type": "execute_result"
    }
   ],
   "source": [
    "\n",
    "# Win ratios: B1:L1 (style names), B6:L6 (values)\n",
    "names_win = parse_range(base, 'B1:L1').values.flatten().tolist()\n",
    "vals_win  = parse_range(base, 'B6:L6').values.flatten().tolist()\n",
    "win_df = pd.DataFrame({'Style': names_win, 'Win_Ratio': to_num(vals_win)}).dropna(subset=['Style'])\n",
    "\n",
    "# Fighter counts for weights (reuse styles from C1:L1 and counts from C2:L2)\n",
    "fighters = parse_range(base, 'C2:L2').values.flatten().tolist()\n",
    "fighters_df = pd.DataFrame({'Style': names_rep, 'Fighters': to_num(fighters)})\n",
    "\n",
    "# Merge and exclude summary labels if any\n",
    "win_w = win_df.merge(fighters_df, on='Style', how='left')\n",
    "mask = exclude_summary(win_w['Style'])\n",
    "\n",
    "# Compute UAM and Weighted Average\n",
    "uam = win_w.loc[mask, 'Win_Ratio'].mean()\n",
    "if win_w.loc[mask, 'Fighters'].fillna(0).sum() > 0:\n",
    "    wavg = np.average(win_w.loc[mask, 'Win_Ratio'], weights=win_w.loc[mask, 'Fighters'].fillna(0))\n",
    "else:\n",
    "    wavg = np.nan\n",
    "\n",
    "avg_comparison = pd.DataFrame({\n",
    "    'Metric': ['UAM (Unweighted Arithmetic Mean)', 'Weighted Average (by Fighters)'],\n",
    "    'Win Ratio': [uam, wavg]\n",
    "})\n",
    "avg_comparison\n"
   ]
  },
  {
   "cell_type": "code",
   "execution_count": 125,
   "id": "5731d2bd",
   "metadata": {},
   "outputs": [
    {
     "data": {
      "text/plain": [
       "<Figure size 640x480 with 0 Axes>"
      ]
     },
     "metadata": {},
     "output_type": "display_data"
    },
    {
     "data": {
      "image/png": "[encoded data removed]",
      "text/plain": [
       "<Figure size 640x480 with 1 Axes>"
      ]
     },
     "metadata": {},
     "output_type": "display_data"
    }
   ],
   "source": [
    "\n",
    "plt.figure()\n",
    "win_w.loc[mask].sort_values('Win_Ratio', ascending=False).plot(\n",
    "    x='Style', y='Win_Ratio', kind='bar', legend=False\n",
    ")\n",
    "plt.ylabel('Win Ratio')\n",
    "plt.title(f'Overall Win Ratios by Style — UAM: {uam:.3f} | Weighted: {wavg:.3f}')\n",
    "plt.tight_layout()\n",
    "plt.show()\n"
   ]
  },
  {
   "cell_type": "markdown",
   "id": "e9106d97",
   "metadata": {},
   "source": [
    "\n",
    "> **Why they differ:** UAM gives each style equal weight regardless of size.  \n",
    "> Weighted average gives each style weight proportional to its **number of fighters**. If one style dominates headcount, it will pull the weighted average toward its own ratio.\n"
   ]
  },
  {
   "cell_type": "markdown",
   "id": "71fbab2b",
   "metadata": {},
   "source": [
    "## 3) Champion Conversion Rate by Style — Cross Source Analysis"
   ]
  },
  {
   "cell_type": "code",
   "execution_count": 126,
   "id": "a886fc99",
   "metadata": {},
   "outputs": [
    {
     "data": {
      "text/html": [
       "<div>\n",
       "<style scoped>\n",
       "    .dataframe tbody tr th:only-of-type {\n",
       "        vertical-align: middle;\n",
       "    }\n",
       "\n",
       "    .dataframe tbody tr th {\n",
       "        vertical-align: top;\n",
       "    }\n",
       "\n",
       "    .dataframe thead th {\n",
       "        text-align: right;\n",
       "    }\n",
       "</style>\n",
       "<table border=\"1\" class=\"dataframe\">\n",
       "  <thead>\n",
       "    <tr style=\"text-align: right;\">\n",
       "      <th></th>\n",
       "      <th>Style</th>\n",
       "      <th>Conversion % (Observed)</th>\n",
       "      <th>Conversion % (ESPN)</th>\n",
       "    </tr>\n",
       "  </thead>\n",
       "  <tbody>\n",
       "    <tr>\n",
       "      <th>0</th>\n",
       "      <td>Total</td>\n",
       "      <td>5.34</td>\n",
       "      <td>4.86</td>\n",
       "    </tr>\n",
       "    <tr>\n",
       "      <th>1</th>\n",
       "      <td>Wrestling</td>\n",
       "      <td>9.05</td>\n",
       "      <td>6.67</td>\n",
       "    </tr>\n",
       "    <tr>\n",
       "      <th>2</th>\n",
       "      <td>BJJ</td>\n",
       "      <td>6.01</td>\n",
       "      <td>9.29</td>\n",
       "    </tr>\n",
       "    <tr>\n",
       "      <th>3</th>\n",
       "      <td>Judo</td>\n",
       "      <td>1.54</td>\n",
       "      <td>0.00</td>\n",
       "    </tr>\n",
       "    <tr>\n",
       "      <th>4</th>\n",
       "      <td>Freestyle</td>\n",
       "      <td>0.21</td>\n",
       "      <td>0.00</td>\n",
       "    </tr>\n",
       "  </tbody>\n",
       "</table>\n",
       "</div>"
      ],
      "text/plain": [
       "       Style  Conversion % (Observed)  Conversion % (ESPN)\n",
       "0      Total                     5.34                 4.86\n",
       "1  Wrestling                     9.05                 6.67\n",
       "2        BJJ                     6.01                 9.29\n",
       "3       Judo                     1.54                 0.00\n",
       "4  Freestyle                     0.21                 0.00"
      ]
     },
     "execution_count": 126,
     "metadata": {},
     "output_type": "execute_result"
    }
   ],
   "source": [
    "\n",
    "cross_name = next((nm for nm in xls.sheet_names if 'cross' in nm.lower()), None)\n",
    "assert cross_name is not None, \"Cross Source Analysis sheet not found. Please rename accordingly.\"\n",
    "\n",
    "cross = pd.read_excel(EXCEL_PATH, sheet_name=cross_name, header=None)\n",
    "\n",
    "styles_conv = parse_range(cross, 'A3:A13').values.flatten().tolist()\n",
    "observed_conv  = to_num(parse_range(cross, 'D3:D13').values.flatten().tolist())\n",
    "espn_conv   = to_num(parse_range(cross, 'E3:E13').values.flatten().tolist())\n",
    "\n",
    "conv_df = pd.DataFrame({\n",
    "    'Style': styles_conv,\n",
    "    'Conversion Raw (Observed)': observed_conv,\n",
    "    'Conversion Raw (ESPN)': espn_conv\n",
    "}).dropna(subset=['Style'])\n",
    "\n",
    "# Percent versions\n",
    "conv_pct = conv_df.copy()\n",
    "if conv_pct[['Conversion Raw (Observed)','Conversion Raw (ESPN)']].max().max() <= 1.0:\n",
    "    conv_pct['Conversion % (Observed)'] = conv_pct['Conversion Raw (Observed)'] * 100.0\n",
    "    conv_pct['Conversion % (ESPN)']  = conv_pct['Conversion Raw (ESPN)'] * 100.0\n",
    "    conv_note = '(converted from proportion)'\n",
    "else:\n",
    "    conv_pct['Conversion % (Observed)'] = conv_pct['Conversion Raw (Observed)']\n",
    "    conv_pct['Conversion % (ESPN)']  = conv_pct['Conversion Raw (ESPN)']\n",
    "    conv_note = '(interpreted as %)'\n",
    "mask_c = exclude_summary(conv_pct['Style'])\n",
    "avg_y = conv_pct.loc[mask_c, 'Conversion % (Observed)'].mean()\n",
    "avg_e = conv_pct.loc[mask_c, 'Conversion % (ESPN)'].mean()\n",
    "\n",
    "conv_pct[['Style','Conversion % (Observed)','Conversion % (ESPN)']].head()\n"
   ]
  },
  {
   "cell_type": "code",
   "execution_count": 127,
   "id": "8365e1da",
   "metadata": {},
   "outputs": [
    {
     "data": {
      "text/plain": [
       "<Figure size 640x480 with 0 Axes>"
      ]
     },
     "metadata": {},
     "output_type": "display_data"
    },
    {
     "data": {
      "image/png": "[encoded data removed]",
      "text/plain": [
       "<Figure size 640x480 with 1 Axes>"
      ]
     },
     "metadata": {},
     "output_type": "display_data"
    }
   ],
   "source": [
    "\n",
    "plt.figure()\n",
    "plot_df = conv_pct.loc[mask_c].set_index('Style')[['Conversion % (Observed)','Conversion % (ESPN)']].sort_values('Conversion % (Observed)', ascending=False)\n",
    "plot_df.plot(kind='bar')\n",
    "plt.ylabel('Conversion Rate (%)')\n",
    "plt.title(f'Champion Conversion by Style {conv_note} — Avg (Observed {avg_y:.1f}%, ESPN {avg_e:.1f}%)')\n",
    "plt.tight_layout()\n",
    "plt.show()\n"
   ]
  },
  {
   "cell_type": "markdown",
   "id": "27ff697c",
   "metadata": {},
   "source": [
    "## 4) Champion Representation by Style — Cross Source Analysis"
   ]
  },
  {
   "cell_type": "code",
   "execution_count": 128,
   "id": "e6613c4d",
   "metadata": {},
   "outputs": [
    {
     "data": {
      "text/html": [
       "<div>\n",
       "<style scoped>\n",
       "    .dataframe tbody tr th:only-of-type {\n",
       "        vertical-align: middle;\n",
       "    }\n",
       "\n",
       "    .dataframe tbody tr th {\n",
       "        vertical-align: top;\n",
       "    }\n",
       "\n",
       "    .dataframe thead th {\n",
       "        text-align: right;\n",
       "    }\n",
       "</style>\n",
       "<table border=\"1\" class=\"dataframe\">\n",
       "  <thead>\n",
       "    <tr style=\"text-align: right;\">\n",
       "      <th></th>\n",
       "      <th>Style</th>\n",
       "      <th>Champions (Observed)</th>\n",
       "      <th>Champions (ESPN)</th>\n",
       "    </tr>\n",
       "  </thead>\n",
       "  <tbody>\n",
       "    <tr>\n",
       "      <th>0</th>\n",
       "      <td>Style</td>\n",
       "      <td>77.0</td>\n",
       "      <td>70.0</td>\n",
       "    </tr>\n",
       "    <tr>\n",
       "      <th>1</th>\n",
       "      <td>Total</td>\n",
       "      <td>38.0</td>\n",
       "      <td>28.0</td>\n",
       "    </tr>\n",
       "    <tr>\n",
       "      <th>2</th>\n",
       "      <td>Wrestling</td>\n",
       "      <td>11.0</td>\n",
       "      <td>17.0</td>\n",
       "    </tr>\n",
       "    <tr>\n",
       "      <th>3</th>\n",
       "      <td>BJJ</td>\n",
       "      <td>1.0</td>\n",
       "      <td>0.0</td>\n",
       "    </tr>\n",
       "    <tr>\n",
       "      <th>4</th>\n",
       "      <td>Judo</td>\n",
       "      <td>1.0</td>\n",
       "      <td>0.0</td>\n",
       "    </tr>\n",
       "  </tbody>\n",
       "</table>\n",
       "</div>"
      ],
      "text/plain": [
       "       Style  Champions (Observed)  Champions (ESPN)\n",
       "0      Style                  77.0              70.0\n",
       "1      Total                  38.0              28.0\n",
       "2  Wrestling                  11.0              17.0\n",
       "3        BJJ                   1.0               0.0\n",
       "4       Judo                   1.0               0.0"
      ]
     },
     "execution_count": 128,
     "metadata": {},
     "output_type": "execute_result"
    }
   ],
   "source": [
    "\n",
    "styles_rep2 = parse_range(cross, 'A2:A13').values.flatten().tolist()\n",
    "observed_rep2  = to_num(parse_range(cross, 'B3:B13').values.flatten().tolist())\n",
    "espn_rep2   = to_num(parse_range(cross, 'C3:C13').values.flatten().tolist())\n",
    "\n",
    "def pad(lst, n):\n",
    "    out = list(lst)\n",
    "    while len(out) < n: out.append(np.nan)\n",
    "    return out\n",
    "\n",
    "mx = max(len(styles_rep2), len(observed_rep2), len(espn_rep2))\n",
    "styles_rep2 = pad(styles_rep2, mx)\n",
    "observed_rep2  = pad(observed_rep2, mx)\n",
    "espn_rep2   = pad(espn_rep2, mx)\n",
    "\n",
    "rep2_df = pd.DataFrame({\n",
    "    'Style': styles_rep2,\n",
    "    'Champions (Observed)': observed_rep2,\n",
    "    'Champions (ESPN)': espn_rep2\n",
    "}).dropna(subset=['Style'])\n",
    "\n",
    "rep2_df.head()\n"
   ]
  },
  {
   "cell_type": "code",
   "execution_count": 129,
   "id": "8e399e8e",
   "metadata": {},
   "outputs": [
    {
     "data": {
      "text/plain": [
       "<Figure size 640x480 with 0 Axes>"
      ]
     },
     "metadata": {},
     "output_type": "display_data"
    },
    {
     "data": {
      "image/png": "[encoded data removed]",
      "text/plain": [
       "<Figure size 640x480 with 1 Axes>"
      ]
     },
     "metadata": {},
     "output_type": "display_data"
    }
   ],
   "source": [
    "\n",
    "plt.figure()\n",
    "rep2_plot = rep2_df.set_index('Style')[['Champions (Observed)','Champions (ESPN)']].sort_values('Champions (Observed)', ascending=False)\n",
    "rep2_plot.plot(kind='bar')\n",
    "plt.ylabel('Champions (Count)')\n",
    "plt.title('Champion Representation by Style (Observed vs ESPN)')\n",
    "plt.tight_layout()\n",
    "plt.show()\n"
   ]
  },
  {
   "cell_type": "markdown",
   "id": "fb8a931a",
   "metadata": {},
   "source": [
    "\n",
    "## Insights\n",
    "## 1. Style Representation (Roster Size)\n",
    "\n",
    "Freestyle Wrestling & Wrestling combined → by far the largest contributor of fighters (≈ 29–33%).\n",
    "\n",
    "BJJ → ~12%.\n",
    "\n",
    "Striking arts like Muay Thai, Boxing, Karate, Kickboxing each only ~3–5%.\n",
    "\n",
    "Niche arts (Judo, TKD, Kung Fu, Sambo) contribute tiny fractions.\n",
    "\n",
    "Grappling-heavy bases dominate the UFC talent pool.\n",
    "\n",
    "## 2. Champion Conversion Rates (Observed vs ESPN)\n",
    "\n",
    "From the Cross Source Analysis:\n",
    "\n",
    "Wrestling: ~9.0% conversion (Observed) vs ~6.7% (ESPN).\n",
    "\n",
    "BJJ: ~6.0% vs ~9.3%.\n",
    "\n",
    "Boxing: ~22.9% (!) in Observed vs 25% ESPN → very high efficiency relative to its small representation.\n",
    "\n",
    "Muay Thai: moderate ~5–7%.\n",
    "\n",
    "Karate: ~10% Observed → notable outlier given small base.\n",
    "\n",
    "Judo, TKD, Kung Fu: near zero or extremely low.\n",
    "\n",
    "Key insight: Wrestling supplies the most champions by volume, but striking specializations like Boxing and Karate convert to champions at a higher per-capita rate.\n",
    "\n",
    "## 3. Championship Enrichment\n",
    "\n",
    "Wrestling: +20% enrichment → not just numerous, but disproportionately successful.\n",
    "\n",
    "Boxing: +11% enrichment → far exceeds its tiny pool.\n",
    "\n",
    "BJJ: slight enrichment, but less dominant than people often claim.\n",
    "\n",
    "Karate & Kickboxing: mixed; Karate surprisingly positive.\n",
    "\n",
    "Muay Thai, TKD, Judo: mostly neutral to negative.\n",
    "\n",
    "- Enrichment shows where a style “punches above its weight”: Wrestling + Boxing lead.\n",
    "\n",
    "## 4. Cross-Source Agreement (Observed vs ESPN)\n",
    "\n",
    "Broad agreement on the top two pipelines (Wrestling & BJJ).\n",
    "\n",
    "ESPN weights BJJ champions slightly more heavily than your dataset.\n",
    "\n",
    "Minor differences in smaller categories are often due to classification variance (e.g., does ESPN call a fighter “Kickboxing” or “Karate”?).\n",
    "\n",
    "- Different taxonomies shift the numbers, but the overall narrative is consistent: grappling is the backbone, with select striking arts producing high-efficiency champions.\n",
    "\n",
    "## Conclusions\n",
    "- Wrestling is the backbone of UFC success. It supplies the largest share of fighters and converts them into champions at rates above expectation, showing both depth and efficiency.\n",
    "\n",
    "- Boxing is the per-capita standout. Despite a small pool of fighters, its conversion rate into champions is among the highest while also boasting the highest win ratio by far, suggesting technical striking translates exceptionally well at both the contender and  elite level.\n",
    "\n",
    "- BJJ remains a strong pipeline but less dominant than the popular narrative. Its representation is solid, but enrichment is weaker compared to Wrestling and Boxing.\n",
    "\n",
    "## Caveats & Next Steps\n",
    "\n",
    "- Weight classes matter. Styles may succeed differently in lighter vs heavier divisions (e.g., Wrestling dominance in lighter weights, Boxing in heavier).\n",
    "\n",
    "- Time splits. Style prevalence and success have shifted over decades — early UFCs vs the modern era look very different.\n",
    "\n",
    "- Opponent quality. Raw win ratios and conversion rates don’t adjust for strength of schedule; future work could weight results by opponent ranking.\n"
   ]
  }
 ],
 "metadata": {
  "kernelspec": {
   "display_name": "Python 3 (ipykernel)",
   "language": "python",
   "name": "python3"
  },
  "language_info": {
   "codemirror_mode": {
    "name": "ipython",
    "version": 3
   },
   "file_extension": ".py",
   "mimetype": "text/x-python",
   "name": "python",
   "nbconvert_exporter": "python",
   "pygments_lexer": "ipython3",
   "version": "3.11.9"
  }
 },
 "nbformat": 4,
 "nbformat_minor": 5
}
